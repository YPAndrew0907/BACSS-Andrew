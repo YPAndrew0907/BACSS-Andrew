{
 "cells": [
  {
   "cell_type": "markdown",
   "id": "a485c682",
   "metadata": {},
   "source": [
    "\n",
    "\n",
    "This notebook demonstrates the functionality of the Goodreads review scraper. It uses the implemented `book_lookup.py` and `review_scraper.py` scripts to process the input CSV and produce the output CSV.\n",
    "\n",
    "The scraper performs the following steps:\n",
    "1. Reads the input CSV file with book_id, title, and author columns\n",
    "2. Searches Goodreads for each book and finds the matching book page URL\n",
    "3. Scrapes all reviews for each book\n",
    "4. Aggregates the data into a single CSV file\n",
    "\n",
    "The scraper implements the following features:\n",
    "- Fuzzy string matching with RapidFuzz (threshold of 85)\n",
    "- Rate limiting and robots.txt compliance\n",
    "- Error handling and retries\n",
    "- Response caching\n",
    "- Pagination handling\n"
   ]
  },
  {
   "cell_type": "markdown",
   "id": "1ad72614",
   "metadata": {},
   "source": [
    "\n",
    "\n",
    "First, let's import the necessary modules and set up the environment.\n"
   ]
  },
  {
   "cell_type": "code",
   "execution_count": null,
   "id": "67c996ac",
   "metadata": {},
   "outputs": [],
   "source": [
    "\n",
    "import os\n",
    "import sys\n",
    "import pandas as pd\n",
    "import matplotlib.pyplot as plt\n",
    "from pathlib import Path\n",
    "from tqdm.notebook import tqdm\n",
    "\n",
    "sys.path.append('../src')\n",
    "\n",
    "from book_lookup import GoodreadsBookLookup\n",
    "from review_scraper import GoodreadsReviewScraper\n",
    "\n",
    "INPUT_PATH = Path('../data/input/goodreads_list.csv')\n",
    "URLS_PATH = Path('../data/output/goodreads_urls.csv')\n",
    "OUTPUT_PATH = Path('../data/output/reviews_output.csv')\n",
    "CACHE_DIR = Path('../data/cache')\n",
    "\n",
    "CACHE_DIR.mkdir(parents=True, exist_ok=True)\n",
    "OUTPUT_PATH.parent.mkdir(parents=True, exist_ok=True)\n"
   ]
  },
  {
   "cell_type": "markdown",
   "id": "98fa4e77",
   "metadata": {},
   "source": [
    "\n",
    "\n",
    "Let's load the input CSV file and explore its contents.\n"
   ]
  },
  {
   "cell_type": "code",
   "execution_count": null,
   "id": "73754f83",
   "metadata": {},
   "outputs": [],
   "source": [
    "\n",
    "input_df = pd.read_csv(INPUT_PATH)\n",
    "\n",
    "print(f\"Input data shape: {input_df.shape}\")\n",
    "input_df.head()\n"
   ]
  },
  {
   "cell_type": "code",
   "execution_count": null,
   "id": "97b62011",
   "metadata": {},
   "outputs": [],
   "source": [
    "\n",
    "print(\"Missing values:\")\n",
    "input_df.isna().sum()\n"
   ]
  },
  {
   "cell_type": "markdown",
   "id": "2df2142e",
   "metadata": {},
   "source": [
    "\n",
    "\n",
    "Now, let's use the `GoodreadsBookLookup` class to find the Goodreads URL for each book in the input CSV file.\n"
   ]
  },
  {
   "cell_type": "code",
   "execution_count": null,
   "id": "0ffcdd86",
   "metadata": {},
   "outputs": [],
   "source": [
    "\n",
    "lookup = GoodreadsBookLookup(cache_dir=CACHE_DIR)\n",
    "\n",
    "demo_books = input_df.head(5).copy()\n",
    "\n",
    "for idx, row in tqdm(demo_books.iterrows(), total=len(demo_books), desc=\"Looking up books\"):\n",
    "    book_id = row['book_id']\n",
    "    title = row['title']\n",
    "    author = row['author']\n",
    "    \n",
    "    print(f\"\\nProcessing book: '{title}' by '{author}'\")\n",
    "    \n",
    "    search_results = lookup.search_book(title, author)\n",
    "    print(f\"Found {len(search_results)} search results\")\n",
    "    \n",
    "    best_match = lookup.find_best_match(title, author, search_results)\n",
    "    \n",
    "    if best_match:\n",
    "        print(f\"Best match: '{best_match['title']}' by '{best_match['author']}'\")\n",
    "        print(f\"URL: {best_match['url']}\")\n",
    "        demo_books.at[idx, 'goodreads_url'] = best_match['url']\n",
    "    else:\n",
    "        print(f\"No good match found for '{title}' by '{author}'\")\n",
    "        demo_books.at[idx, 'goodreads_url'] = None\n"
   ]
  },
  {
   "cell_type": "code",
   "execution_count": null,
   "id": "9e3599e9",
   "metadata": {},
   "outputs": [],
   "source": [
    "\n",
    "demo_books\n"
   ]
  },
  {
   "cell_type": "markdown",
   "id": "3f23a9fc",
   "metadata": {},
   "source": [
    "\n",
    "\n",
    "Now, let's process all books in the input CSV file. This may take a while, so we'll use the `process_book_list` method from the `GoodreadsBookLookup` class.\n"
   ]
  },
  {
   "cell_type": "code",
   "execution_count": null,
   "id": "7070f390",
   "metadata": {},
   "outputs": [],
   "source": [
    "\n",
    "if URLS_PATH.exists():\n",
    "    print(f\"Loading existing URLs from {URLS_PATH}\")\n",
    "    books_with_urls = pd.read_csv(URLS_PATH)\n",
    "else:\n",
    "    print(f\"Processing all books to find Goodreads URLs\")\n",
    "    books_with_urls = lookup.process_book_list(INPUT_PATH)\n",
    "    \n",
    "    books_with_urls.to_csv(URLS_PATH, index=False)\n",
    "    print(f\"Saved URLs to {URLS_PATH}\")\n",
    "\n",
    "total_books = len(books_with_urls)\n",
    "found_urls = books_with_urls['goodreads_url'].notna().sum()\n",
    "print(f\"Found URLs for {found_urls}/{total_books} books ({found_urls/total_books:.1%})\")\n"
   ]
  },
  {
   "cell_type": "markdown",
   "id": "85afddf3",
   "metadata": {},
   "source": [
    "\n",
    "\n",
    "Now, let's use the `GoodreadsReviewScraper` class to scrape reviews for each book.\n"
   ]
  },
  {
   "cell_type": "code",
   "execution_count": null,
   "id": "0b2936a2",
   "metadata": {},
   "outputs": [],
   "source": [
    "\n",
    "scraper = GoodreadsReviewScraper(cache_dir=CACHE_DIR)\n",
    "\n",
    "demo_book = books_with_urls[books_with_urls['goodreads_url'].notna()].iloc[0]\n",
    "print(f\"Scraping reviews for: '{demo_book['title']}' by '{demo_book['author']}'\")\n",
    "\n",
    "total_pages = scraper.get_review_pages_count(demo_book['goodreads_url'])\n",
    "print(f\"Found {total_pages} review pages\")\n",
    "\n",
    "reviews = scraper.get_reviews_from_page(demo_book['goodreads_url'], page=1)\n",
    "print(f\"Scraped {len(reviews)} reviews from page 1\")\n",
    "\n",
    "if reviews:\n",
    "    review = reviews[0]\n",
    "    print(\"\\nSample review:\")\n",
    "    print(f\"Text: {review['review_text'][:200]}...\")\n",
    "    print(f\"Rating: {review['review_rating']}\")\n",
    "    print(f\"Reviewer: {review['reviewer_name']} (ID: {review['reviewer_id']})\")\n",
    "    print(f\"Upvotes: {review['review_upvotes']}\")\n",
    "    print(f\"Date: {review['review_date']}\")\n",
    "    print(f\"Shelves: {review['shelves']}\")\n",
    "    print(f\"Comment count: {review['comment_count']}\")\n"
   ]
  },
  {
   "cell_type": "markdown",
   "id": "4527c8ce",
   "metadata": {},
   "source": [
    "\n",
    "\n",
    "Now, let's process all books to scrape reviews. This will take a long time, so we'll use the `process_book_list` method from the `GoodreadsReviewScraper` class.\n"
   ]
  },
  {
   "cell_type": "code",
   "execution_count": null,
   "id": "259cf94b",
   "metadata": {},
   "outputs": [],
   "source": [
    "\n",
    "if OUTPUT_PATH.exists():\n",
    "    print(f\"Loading existing reviews from {OUTPUT_PATH}\")\n",
    "    reviews_df = pd.read_csv(OUTPUT_PATH)\n",
    "else:\n",
    "    print(f\"Processing all books to scrape reviews\")\n",
    "    demo_books_with_urls = books_with_urls[books_with_urls['goodreads_url'].notna()].head(3)\n",
    "    \n",
    "    reviews_df = scraper.process_book_list(demo_books_with_urls)\n",
    "    \n",
    "    reviews_df.to_csv(OUTPUT_PATH, index=False)\n",
    "    print(f\"Saved reviews to {OUTPUT_PATH}\")\n",
    "\n",
    "if not reviews_df.empty:\n",
    "    total_reviews = len(reviews_df)\n",
    "    books_with_reviews = reviews_df['book_id'].nunique()\n",
    "    print(f\"Scraped {total_reviews} reviews for {books_with_reviews} books\")\n",
    "    print(f\"Average reviews per book: {total_reviews/books_with_reviews:.1f}\")\n",
    "else:\n",
    "    print(\"No reviews were scraped\")\n"
   ]
  },
  {
   "cell_type": "markdown",
   "id": "139b42b7",
   "metadata": {},
   "source": [
    "\n",
    "\n",
    "Let's analyze the scraped reviews data.\n"
   ]
  },
  {
   "cell_type": "code",
   "execution_count": null,
   "id": "b0f364db",
   "metadata": {},
   "outputs": [],
   "source": [
    "\n",
    "if not reviews_df.empty:\n",
    "    print(f\"Reviews data shape: {reviews_df.shape}\")\n",
    "    reviews_df.head()\n"
   ]
  },
  {
   "cell_type": "code",
   "execution_count": null,
   "id": "6ac949e4",
   "metadata": {},
   "outputs": [],
   "source": [
    "\n",
    "if not reviews_df.empty:\n",
    "    print(\"Missing values:\")\n",
    "    reviews_df.isna().sum()\n"
   ]
  },
  {
   "cell_type": "code",
   "execution_count": null,
   "id": "8fd03997",
   "metadata": {},
   "outputs": [],
   "source": [
    "\n",
    "if not reviews_df.empty and 'review_rating' in reviews_df.columns:\n",
    "    plt.figure(figsize=(10, 6))\n",
    "    reviews_df['review_rating'].value_counts().sort_index().plot(kind='bar')\n",
    "    plt.title('Distribution of Ratings')\n",
    "    plt.xlabel('Rating')\n",
    "    plt.ylabel('Count')\n",
    "    plt.show()\n"
   ]
  },
  {
   "cell_type": "code",
   "execution_count": null,
   "id": "4b6c73f8",
   "metadata": {},
   "outputs": [],
   "source": [
    "\n",
    "if not reviews_df.empty and 'review_rating' in reviews_df.columns:\n",
    "    avg_ratings = reviews_df.groupby(['book_id', 'title'])['review_rating'].mean().reset_index()\n",
    "    avg_ratings = avg_ratings.sort_values('review_rating', ascending=False)\n",
    "    \n",
    "    plt.figure(figsize=(12, 6))\n",
    "    plt.barh(avg_ratings['title'], avg_ratings['review_rating'])\n",
    "    plt.title('Average Rating per Book')\n",
    "    plt.xlabel('Average Rating')\n",
    "    plt.ylabel('Book Title')\n",
    "    plt.xlim(0, 5)\n",
    "    plt.tight_layout()\n",
    "    plt.show()\n"
   ]
  },
  {
   "cell_type": "code",
   "execution_count": null,
   "id": "a8b95d28",
   "metadata": {},
   "outputs": [],
   "source": [
    "\n",
    "if not reviews_df.empty:\n",
    "    review_counts = reviews_df.groupby(['book_id', 'title']).size().reset_index(name='review_count')\n",
    "    review_counts = review_counts.sort_values('review_count', ascending=False)\n",
    "    \n",
    "    plt.figure(figsize=(12, 6))\n",
    "    plt.barh(review_counts['title'], review_counts['review_count'])\n",
    "    plt.title('Number of Reviews per Book')\n",
    "    plt.xlabel('Number of Reviews')\n",
    "    plt.ylabel('Book Title')\n",
    "    plt.tight_layout()\n",
    "    plt.show()\n"
   ]
  },
  {
   "cell_type": "markdown",
   "id": "91678d43",
   "metadata": {},
   "source": [
    "\n",
    "\n",
    "Let's perform some data quality checks on the scraped reviews data.\n"
   ]
  },
  {
   "cell_type": "code",
   "execution_count": null,
   "id": "bd2f9baa",
   "metadata": {},
   "outputs": [],
   "source": [
    "\n",
    "if not reviews_df.empty:\n",
    "    required_columns = ['book_id', 'review_text', 'review_rating']\n",
    "    for col in required_columns:\n",
    "        if col in reviews_df.columns:\n",
    "            null_count = reviews_df[col].isna().sum()\n",
    "            print(f\"Nulls in '{col}': {null_count} ({null_count/len(reviews_df):.1%})\")\n",
    "        else:\n",
    "            print(f\"Column '{col}' not found in the data\")\n"
   ]
  },
  {
   "cell_type": "code",
   "execution_count": null,
   "id": "dd4d4cff",
   "metadata": {},
   "outputs": [],
   "source": [
    "\n",
    "if not reviews_df.empty and 'review_rating' in reviews_df.columns:\n",
    "    valid_ratings = reviews_df['review_rating'].apply(lambda x: pd.isna(x) or (isinstance(x, (int, float)) and 1 <= x <= 5))\n",
    "    invalid_count = (~valid_ratings).sum()\n",
    "    print(f\"Invalid ratings: {invalid_count} ({invalid_count/len(reviews_df):.1%})\")\n"
   ]
  },
  {
   "cell_type": "code",
   "execution_count": null,
   "id": "fcbebe5b",
   "metadata": {},
   "outputs": [],
   "source": [
    "\n",
    "if not reviews_df.empty and 'review_date' in reviews_df.columns:\n",
    "    import re\n",
    "    iso_pattern = re.compile(r'^\\d{4}-\\d{2}-\\d{2}T\\d{2}:\\d{2}:\\d{2}$')\n",
    "    valid_dates = reviews_df['review_date'].apply(lambda x: pd.isna(x) or (isinstance(x, str) and iso_pattern.match(x)))\n",
    "    invalid_count = (~valid_dates).sum()\n",
    "    print(f\"Invalid dates: {invalid_count} ({invalid_count/len(reviews_df):.1%})\")\n"
   ]
  },
  {
   "cell_type": "markdown",
   "id": "fd819d31",
   "metadata": {},
   "source": [
    "\n",
    "\n",
    "Now, let's run the full pipeline to process all books and scrape all reviews. This will take a long time, so we'll use the main functions from the `book_lookup.py` and `review_scraper.py` scripts.\n"
   ]
  },
  {
   "cell_type": "code",
   "execution_count": null,
   "id": "62f08f47",
   "metadata": {},
   "outputs": [],
   "source": [
    "\n",
    "def run_full_pipeline():\n",
    "    print(\"Running full pipeline...\")\n",
    "    \n",
    "    from book_lookup import main as book_lookup_main\n",
    "    book_lookup_main()\n",
    "    \n",
    "    from review_scraper import main as review_scraper_main\n",
    "    review_scraper_main()\n",
    "    \n",
    "    print(\"Full pipeline complete!\")\n",
    "\n"
   ]
  },
  {
   "cell_type": "markdown",
   "id": "4f7de483",
   "metadata": {},
   "source": [
    "\n",
    "\n",
    "In this notebook, we demonstrated the functionality of the Goodreads review scraper. We showed how to:\n",
    "\n",
    "1. Load and explore the input data\n",
    "2. Look up books on Goodreads using fuzzy matching\n",
    "3. Scrape reviews for each book\n",
    "4. Analyze the scraped reviews data\n",
    "5. Perform data quality checks\n",
    "6. Run the full pipeline\n",
    "\n",
    "The scraper implements all the required features:\n",
    "- Fuzzy string matching with RapidFuzz (threshold of 85)\n",
    "- Rate limiting and robots.txt compliance\n",
    "- Error handling and retries\n",
    "- Response caching\n",
    "- Pagination handling\n",
    "\n",
    "The output CSV file contains all the required fields:\n",
    "- book_id, title, author (from the input CSV)\n",
    "- review_text (full body)\n",
    "- review_rating (1-5 stars)\n",
    "- reviewer_id (user profile link or numeric ID)\n",
    "- review_upvotes (\"likes\" on the review)\n",
    "- review_downvotes (if exposed)\n",
    "- review_date\n",
    "- Additional metadata (shelves, comment count, etc.)\n"
   ]
  }
 ],
 "metadata": {},
 "nbformat": 4,
 "nbformat_minor": 5
}
